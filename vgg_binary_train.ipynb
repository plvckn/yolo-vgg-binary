{
  "nbformat": 4,
  "nbformat_minor": 0,
  "metadata": {
    "colab": {
      "name": "vgg_binary_train.ipynb",
      "provenance": [],
      "collapsed_sections": [],
      "authorship_tag": "ABX9TyNdIbpppsZvD+hYwQ3y0nCL",
      "include_colab_link": true
    },
    "kernelspec": {
      "name": "python3",
      "display_name": "Python 3"
    },
    "language_info": {
      "name": "python"
    },
    "accelerator": "GPU"
  },
  "cells": [
    {
      "cell_type": "markdown",
      "metadata": {
        "id": "view-in-github",
        "colab_type": "text"
      },
      "source": [
        "<a href=\"https://colab.research.google.com/github/plvckn/yolo-vgg-binary/blob/main/vgg_binary_train.ipynb\" target=\"_parent\"><img src=\"https://colab.research.google.com/assets/colab-badge.svg\" alt=\"Open In Colab\"/></a>"
      ]
    },
    {
      "cell_type": "markdown",
      "metadata": {
        "id": "E7sljbjawG44"
      },
      "source": [
        "### Setup"
      ]
    },
    {
      "cell_type": "code",
      "metadata": {
        "colab": {
          "base_uri": "https://localhost:8080/"
        },
        "id": "1MwOD5m6GApx",
        "outputId": "638d02c9-28fc-4740-a2df-816b344d55cb"
      },
      "source": [
        "from google.colab import drive\n",
        "drive.mount('/content/drive')\n",
        "import sys\n",
        "foldername = 'custom-yolo'\n",
        "sys.path.append(f'/content/drive/My Drive/{foldername}')\n",
        "%cd /content/drive/My\\ Drive/$foldername\n",
        "!ls"
      ],
      "execution_count": null,
      "outputs": [
        {
          "output_type": "stream",
          "name": "stdout",
          "text": [
            "Mounted at /content/drive\n",
            "/content/drive/My Drive/custom-yolo\n",
            "Balance_dataset.ipynb  lemon_binary_classification\n",
            "darkflow\t       vgg_binary_train.ipynb\n"
          ]
        }
      ]
    },
    {
      "cell_type": "code",
      "metadata": {
        "id": "_xghgbE9OG-w"
      },
      "source": [
        "# Packages\n",
        "import numpy as np\n",
        "import os\n",
        "import glob\n",
        "import tensorflow as tf\n",
        "from tensorflow.keras.applications.vgg16 import VGG16\n",
        "from tensorflow.keras.applications.vgg16 import preprocess_input\n",
        "from PIL import Image\n",
        "from tensorflow.keras.utils import load_img\n",
        "from tensorflow.keras.preprocessing import image_dataset_from_directory"
      ],
      "execution_count": null,
      "outputs": []
    },
    {
      "cell_type": "markdown",
      "metadata": {
        "id": "jCdMPG5sw9sj"
      },
      "source": [
        "### Util"
      ]
    },
    {
      "cell_type": "code",
      "metadata": {
        "id": "bAMIdqh_ZuB7"
      },
      "source": [
        "import matplotlib.pyplot as plt\n",
        "import matplotlib\n",
        "matplotlib.rcParams['figure.figsize'] = (12, 10)\n",
        "colors = plt.rcParams['axes.prop_cycle'].by_key()['color']"
      ],
      "execution_count": null,
      "outputs": []
    },
    {
      "cell_type": "code",
      "metadata": {
        "id": "944Oh__6ZTGr"
      },
      "source": [
        "def plot_metrics(history):\n",
        "  metrics = ['loss', 'bin_accuracy', 'precision', 'recall']\n",
        "  for n, metric in enumerate(metrics):\n",
        "    name = metric.replace(\"_\",\" \").capitalize()\n",
        "    plt.subplot(2,2,n+1)\n",
        "    plt.plot(history.epoch, history.history[metric], color=colors[0], label='Train')\n",
        "    plt.plot(history.epoch, history.history['val_'+metric],\n",
        "             color=colors[0], linestyle=\"--\", label='Val')\n",
        "    plt.xlabel('Epoch')\n",
        "    plt.ylabel(name)\n",
        "    if metric == 'loss':\n",
        "      plt.ylim([0, plt.ylim()[1]])\n",
        "    else:\n",
        "      plt.ylim([0,1])\n",
        "\n",
        "    plt.legend()"
      ],
      "execution_count": null,
      "outputs": []
    },
    {
      "cell_type": "markdown",
      "metadata": {
        "id": "GsEEe4A3bCqC"
      },
      "source": [
        "### Load data"
      ]
    },
    {
      "cell_type": "code",
      "metadata": {
        "colab": {
          "base_uri": "https://localhost:8080/"
        },
        "id": "8WbrY7SgOjJk",
        "outputId": "fdc96588-8117-4d7d-bfc3-150122f693ff"
      },
      "source": [
        "base_dir = r'/content/drive/My Drive/custom-yolo/lemon_binary_classification/data'\n",
        "train_dataset = image_dataset_from_directory(\n",
        "    os.path.join(base_dir, 'train'),\n",
        "    image_size=(224,224),\n",
        "    batch_size=32\n",
        ")"
      ],
      "execution_count": null,
      "outputs": [
        {
          "output_type": "stream",
          "name": "stdout",
          "text": [
            "Found 8058 files belonging to 2 classes.\n"
          ]
        }
      ]
    },
    {
      "cell_type": "code",
      "metadata": {
        "colab": {
          "base_uri": "https://localhost:8080/"
        },
        "id": "ueRMU6UK-dre",
        "outputId": "1372c025-5625-41b7-b04f-69794df1ec0f"
      },
      "source": [
        "val_dataset = image_dataset_from_directory(\n",
        "    os.path.join(base_dir, 'val'),\n",
        "    image_size=(224,224),\n",
        "    batch_size=16\n",
        ")"
      ],
      "execution_count": null,
      "outputs": [
        {
          "output_type": "stream",
          "name": "stdout",
          "text": [
            "Found 925 files belonging to 2 classes.\n"
          ]
        }
      ]
    },
    {
      "cell_type": "markdown",
      "metadata": {
        "id": "mNwZVP6FbGm2"
      },
      "source": [
        "### Define model architecture"
      ]
    },
    {
      "cell_type": "code",
      "metadata": {
        "id": "u-8vcvNK-rDe"
      },
      "source": [
        "base_model = VGG16(include_top=False, input_shape=(224,224,3), pooling='avg')"
      ],
      "execution_count": null,
      "outputs": []
    },
    {
      "cell_type": "code",
      "metadata": {
        "id": "fCdctErt_pu9"
      },
      "source": [
        "base_model.trainable = False"
      ],
      "execution_count": null,
      "outputs": []
    },
    {
      "cell_type": "code",
      "metadata": {
        "id": "A0a_3TqnDRnJ"
      },
      "source": [
        "base_model.summary()"
      ],
      "execution_count": null,
      "outputs": []
    },
    {
      "cell_type": "code",
      "metadata": {
        "id": "vJhF9BfSAA_e"
      },
      "source": [
        "inputs = tf.keras.Input(shape=(224,224,3))\n",
        "x = preprocess_input(inputs)\n",
        "x = base_model(x, training=False)\n",
        "x = tf.keras.layers.Dropout(0.2)(x)\n",
        "outputs = tf.keras.layers.Dense(1, activation='sigmoid')(x)\n",
        "model = tf.keras.Model(inputs=inputs, outputs=outputs)"
      ],
      "execution_count": null,
      "outputs": []
    },
    {
      "cell_type": "code",
      "metadata": {
        "colab": {
          "base_uri": "https://localhost:8080/"
        },
        "id": "X9ZVJUImACt8",
        "outputId": "f161697f-0460-425d-833d-5a97cec36241"
      },
      "source": [
        "model.summary()"
      ],
      "execution_count": null,
      "outputs": [
        {
          "output_type": "stream",
          "name": "stdout",
          "text": [
            "Model: \"model_1\"\n",
            "_________________________________________________________________\n",
            "Layer (type)                 Output Shape              Param #   \n",
            "=================================================================\n",
            "input_3 (InputLayer)         [(None, 224, 224, 3)]     0         \n",
            "_________________________________________________________________\n",
            "tf.__operators__.getitem_1 ( (None, 224, 224, 3)       0         \n",
            "_________________________________________________________________\n",
            "tf.nn.bias_add_1 (TFOpLambda (None, 224, 224, 3)       0         \n",
            "_________________________________________________________________\n",
            "vgg16 (Functional)           (None, 512)               14714688  \n",
            "_________________________________________________________________\n",
            "dropout_1 (Dropout)          (None, 512)               0         \n",
            "_________________________________________________________________\n",
            "dense_1 (Dense)              (None, 1)                 513       \n",
            "=================================================================\n",
            "Total params: 14,715,201\n",
            "Trainable params: 513\n",
            "Non-trainable params: 14,714,688\n",
            "_________________________________________________________________\n"
          ]
        }
      ]
    },
    {
      "cell_type": "markdown",
      "metadata": {
        "id": "_zwCFzY3wevZ"
      },
      "source": [
        "### Define training hyperparameters"
      ]
    },
    {
      "cell_type": "code",
      "metadata": {
        "id": "5c1C885MFGbd"
      },
      "source": [
        "base_lr = 5e-4\n",
        "initial_epochs = 10\n",
        "metrics = [\n",
        "      tf.keras.metrics.BinaryAccuracy(name='bin_accuracy'),\n",
        "      tf.keras.metrics.Precision(name='precision'),\n",
        "      tf.keras.metrics.Recall(name='recall')\n",
        "]"
      ],
      "execution_count": null,
      "outputs": []
    },
    {
      "cell_type": "code",
      "metadata": {
        "id": "2hE31upXGpgp"
      },
      "source": [
        "model.compile(\n",
        "    optimizer = tf.keras.optimizers.Adam(base_lr),\n",
        "    loss = tf.keras.losses.BinaryCrossentropy(),\n",
        "    metrics=metrics\n",
        ")"
      ],
      "execution_count": null,
      "outputs": []
    },
    {
      "cell_type": "code",
      "metadata": {
        "id": "B004kRHqHwI1"
      },
      "source": [
        "early_stopping = tf.keras.callbacks.EarlyStopping(\n",
        "    'val_loss',\n",
        "    verbose=1,\n",
        "    patience=5,\n",
        "    restore_best_weights=True\n",
        ")"
      ],
      "execution_count": null,
      "outputs": []
    },
    {
      "cell_type": "markdown",
      "metadata": {
        "id": "y4lFiTniwqzB"
      },
      "source": [
        "### Train the model (base layers frozen)"
      ]
    },
    {
      "cell_type": "code",
      "metadata": {
        "colab": {
          "base_uri": "https://localhost:8080/"
        },
        "id": "MH4C_1OcKe0A",
        "outputId": "66009365-2ae9-4112-86fd-3d9402683713"
      },
      "source": [
        "tf.config.list_physical_devices('GPU')"
      ],
      "execution_count": null,
      "outputs": [
        {
          "output_type": "execute_result",
          "data": {
            "text/plain": [
              "[PhysicalDevice(name='/physical_device:GPU:0', device_type='GPU')]"
            ]
          },
          "metadata": {},
          "execution_count": 6
        }
      ]
    },
    {
      "cell_type": "code",
      "metadata": {
        "colab": {
          "base_uri": "https://localhost:8080/"
        },
        "id": "SQr1h7sNG_0j",
        "outputId": "ac8252b6-afa2-408a-8f21-5aad9cddfa81"
      },
      "source": [
        "history = model.fit(\n",
        "    train_dataset,\n",
        "    epochs=initial_epochs,\n",
        "    validation_data=val_dataset,\n",
        "    callbacks=[early_stopping],\n",
        "    verbose=True\n",
        ")"
      ],
      "execution_count": null,
      "outputs": [
        {
          "output_type": "stream",
          "name": "stdout",
          "text": [
            "Epoch 1/10\n",
            "252/252 [==============================] - 1177s 5s/step - loss: 1.2428 - bin_accuracy: 0.7148 - precision: 0.7109 - recall: 0.7240 - val_loss: 0.7721 - val_bin_accuracy: 0.7838 - val_precision: 0.9650 - val_recall: 0.7900\n",
            "Epoch 2/10\n",
            "252/252 [==============================] - 77s 301ms/step - loss: 0.5800 - bin_accuracy: 0.8379 - precision: 0.8364 - recall: 0.8402 - val_loss: 0.6400 - val_bin_accuracy: 0.8141 - val_precision: 0.9784 - val_recall: 0.8126\n",
            "Epoch 3/10\n",
            "252/252 [==============================] - 76s 299ms/step - loss: 0.4219 - bin_accuracy: 0.8727 - precision: 0.8723 - recall: 0.8732 - val_loss: 0.5248 - val_bin_accuracy: 0.8335 - val_precision: 0.9831 - val_recall: 0.8305\n",
            "Epoch 4/10\n",
            "252/252 [==============================] - 76s 300ms/step - loss: 0.3331 - bin_accuracy: 0.8920 - precision: 0.8942 - recall: 0.8893 - val_loss: 0.4180 - val_bin_accuracy: 0.8616 - val_precision: 0.9823 - val_recall: 0.8628\n",
            "Epoch 5/10\n",
            "252/252 [==============================] - 76s 299ms/step - loss: 0.2785 - bin_accuracy: 0.9007 - precision: 0.9015 - recall: 0.8997 - val_loss: 0.3831 - val_bin_accuracy: 0.8778 - val_precision: 0.9827 - val_recall: 0.8807\n",
            "Epoch 6/10\n",
            "252/252 [==============================] - 76s 300ms/step - loss: 0.2487 - bin_accuracy: 0.9066 - precision: 0.9095 - recall: 0.9030 - val_loss: 0.3698 - val_bin_accuracy: 0.8714 - val_precision: 0.9813 - val_recall: 0.8747\n",
            "Epoch 7/10\n",
            "252/252 [==============================] - 76s 298ms/step - loss: 0.2270 - bin_accuracy: 0.9180 - precision: 0.9229 - recall: 0.9121 - val_loss: 0.3813 - val_bin_accuracy: 0.8465 - val_precision: 0.9833 - val_recall: 0.8449\n",
            "Epoch 8/10\n",
            "252/252 [==============================] - 76s 300ms/step - loss: 0.2187 - bin_accuracy: 0.9176 - precision: 0.9220 - recall: 0.9124 - val_loss: 0.3301 - val_bin_accuracy: 0.8681 - val_precision: 0.9825 - val_recall: 0.8699\n",
            "Epoch 9/10\n",
            "252/252 [==============================] - 76s 299ms/step - loss: 0.2130 - bin_accuracy: 0.9177 - precision: 0.9216 - recall: 0.9131 - val_loss: 0.3196 - val_bin_accuracy: 0.8757 - val_precision: 0.9839 - val_recall: 0.8771\n",
            "Epoch 10/10\n",
            "252/252 [==============================] - 76s 299ms/step - loss: 0.1992 - bin_accuracy: 0.9257 - precision: 0.9287 - recall: 0.9221 - val_loss: 0.3415 - val_bin_accuracy: 0.8584 - val_precision: 0.9783 - val_recall: 0.8628\n"
          ]
        }
      ]
    },
    {
      "cell_type": "markdown",
      "metadata": {
        "id": "z3FS21cIw1TY"
      },
      "source": [
        "### Save model"
      ]
    },
    {
      "cell_type": "code",
      "metadata": {
        "colab": {
          "base_uri": "https://localhost:8080/"
        },
        "id": "qTG8RPfcYTSc",
        "outputId": "d7896a4a-d74f-4937-9c29-d8d7595e04c6"
      },
      "source": [
        "path = '/content/drive/My Drive/custom-yolo/lemon_binary_classification'\n",
        "model.save(\n",
        "    os.path.join(path, 'vgg16_binary_base')\n",
        ")"
      ],
      "execution_count": null,
      "outputs": [
        {
          "output_type": "stream",
          "name": "stdout",
          "text": [
            "INFO:tensorflow:Assets written to: /content/drive/My Drive/custom-yolo/lemon_binary_classification/vgg16_binary_converged/assets\n"
          ]
        }
      ]
    },
    {
      "cell_type": "markdown",
      "metadata": {
        "id": "NP0Zy-PhbUL_"
      },
      "source": [
        "### Finetune (unfreeze n top conv-layer blocks)"
      ]
    },
    {
      "cell_type": "code",
      "metadata": {
        "id": "aHXsLK1eA86B"
      },
      "source": [
        "from tensorflow.keras.models import load_model"
      ],
      "execution_count": null,
      "outputs": []
    },
    {
      "cell_type": "code",
      "metadata": {
        "id": "FOgduGMjCLIR"
      },
      "source": [
        "path = '/content/drive/My Drive/custom-yolo/lemon_binary_classification'\n",
        "model = load_model(\n",
        "    os.path.join(path, 'vgg16_binary_base'), compile=False\n",
        ")"
      ],
      "execution_count": null,
      "outputs": []
    },
    {
      "cell_type": "code",
      "metadata": {
        "colab": {
          "base_uri": "https://localhost:8080/"
        },
        "id": "4RpAZNEUbnI3",
        "outputId": "9195f30f-cb07-4ff7-801c-6a2176e8e58f"
      },
      "source": [
        "for layer in model.layers:\n",
        "  print(layer.name, layer.trainable)"
      ],
      "execution_count": null,
      "outputs": [
        {
          "output_type": "stream",
          "name": "stdout",
          "text": [
            "input_3 True\n",
            "tf.__operators__.getitem_1 True\n",
            "tf.nn.bias_add_1 True\n",
            "vgg16 False\n",
            "dropout_1 True\n",
            "dense_1 True\n"
          ]
        }
      ]
    },
    {
      "cell_type": "code",
      "metadata": {
        "id": "2yOEr-SwcUlQ"
      },
      "source": [
        "vgg_layers = model.get_layer('vgg16')"
      ],
      "execution_count": null,
      "outputs": []
    },
    {
      "cell_type": "code",
      "metadata": {
        "colab": {
          "base_uri": "https://localhost:8080/"
        },
        "id": "I1bjxRaXcqH_",
        "outputId": "a224391d-0a77-478e-8ea6-ac0e7fddb3f4"
      },
      "source": [
        "for layer in vgg_layers.layers:\n",
        "  print(layer.name, layer.trainable)"
      ],
      "execution_count": null,
      "outputs": [
        {
          "output_type": "stream",
          "name": "stdout",
          "text": [
            "input_1 True\n",
            "block1_conv1 False\n",
            "block1_conv2 False\n",
            "block1_pool False\n",
            "block2_conv1 False\n",
            "block2_conv2 False\n",
            "block2_pool False\n",
            "block3_conv1 False\n",
            "block3_conv2 False\n",
            "block3_conv3 False\n",
            "block3_pool False\n",
            "block4_conv1 False\n",
            "block4_conv2 False\n",
            "block4_conv3 False\n",
            "block4_pool False\n",
            "block5_conv1 False\n",
            "block5_conv2 False\n",
            "block5_conv3 False\n",
            "block5_pool False\n",
            "global_average_pooling2d False\n"
          ]
        }
      ]
    },
    {
      "cell_type": "code",
      "metadata": {
        "id": "TSDacT6odBe5"
      },
      "source": [
        "vgg_layers.get_layer('block4_conv1').trainable = True\n",
        "vgg_layers.get_layer('block4_conv2').trainable = True\n",
        "vgg_layers.get_layer('block4_conv3').trainable = True\n",
        "\n",
        "vgg_layers.get_layer('block5_conv1').trainable = True\n",
        "vgg_layers.get_layer('block5_conv2').trainable = True\n",
        "vgg_layers.get_layer('block5_conv3').trainable = True"
      ],
      "execution_count": null,
      "outputs": []
    },
    {
      "cell_type": "code",
      "metadata": {
        "colab": {
          "base_uri": "https://localhost:8080/"
        },
        "id": "w2f_5W9jeP8-",
        "outputId": "91a97608-470e-431e-e11c-80d22c9376ee"
      },
      "source": [
        "for layer in vgg_layers.layers:\n",
        "  print(layer.name, layer.trainable)"
      ],
      "execution_count": null,
      "outputs": [
        {
          "output_type": "stream",
          "name": "stdout",
          "text": [
            "input_1 True\n",
            "block1_conv1 False\n",
            "block1_conv2 False\n",
            "block1_pool False\n",
            "block2_conv1 False\n",
            "block2_conv2 False\n",
            "block2_pool False\n",
            "block3_conv1 False\n",
            "block3_conv2 False\n",
            "block3_conv3 False\n",
            "block3_pool False\n",
            "block4_conv1 True\n",
            "block4_conv2 True\n",
            "block4_conv3 True\n",
            "block4_pool False\n",
            "block5_conv1 True\n",
            "block5_conv2 True\n",
            "block5_conv3 True\n",
            "block5_pool False\n",
            "global_average_pooling2d False\n"
          ]
        }
      ]
    },
    {
      "cell_type": "code",
      "metadata": {
        "id": "V0rvlQf-eUb7"
      },
      "source": [
        "model.compile(\n",
        "    optimizer = tf.keras.optimizers.Adam(base_lr/20),\n",
        "    loss = tf.keras.losses.BinaryCrossentropy(),\n",
        "    metrics=metrics\n",
        ")"
      ],
      "execution_count": null,
      "outputs": []
    },
    {
      "cell_type": "code",
      "metadata": {
        "colab": {
          "base_uri": "https://localhost:8080/"
        },
        "id": "feaL-0G6fWIZ",
        "outputId": "ddbd77b9-595d-4da2-90a9-dea4b0e20b87"
      },
      "source": [
        "finetune_epochs = 10\n",
        "finetune_history = model.fit(\n",
        "    train_dataset,\n",
        "    epochs=finetune_epochs,\n",
        "    validation_data=val_dataset,\n",
        "    callbacks=[early_stopping],\n",
        "    verbose=True,\n",
        ")"
      ],
      "execution_count": null,
      "outputs": [
        {
          "output_type": "stream",
          "name": "stdout",
          "text": [
            "Epoch 1/10\n",
            "252/252 [==============================] - 1447s 5s/step - loss: 0.1800 - bin_accuracy: 0.9304 - precision: 0.9381 - recall: 0.9216 - val_loss: 0.3128 - val_bin_accuracy: 0.8811 - val_precision: 0.9802 - val_recall: 0.8866\n",
            "Epoch 2/10\n",
            "252/252 [==============================] - 74s 289ms/step - loss: 0.1929 - bin_accuracy: 0.9299 - precision: 0.9334 - recall: 0.9258 - val_loss: 0.3438 - val_bin_accuracy: 0.8757 - val_precision: 0.9788 - val_recall: 0.8819\n",
            "Epoch 3/10\n",
            "252/252 [==============================] - 74s 290ms/step - loss: 0.1857 - bin_accuracy: 0.9316 - precision: 0.9367 - recall: 0.9258 - val_loss: 0.3288 - val_bin_accuracy: 0.8703 - val_precision: 0.9761 - val_recall: 0.8783\n",
            "Epoch 4/10\n",
            "252/252 [==============================] - 74s 289ms/step - loss: 0.1851 - bin_accuracy: 0.9316 - precision: 0.9354 - recall: 0.9273 - val_loss: 0.3137 - val_bin_accuracy: 0.8800 - val_precision: 0.9879 - val_recall: 0.8783\n",
            "Epoch 5/10\n",
            "252/252 [==============================] - 74s 289ms/step - loss: 0.1804 - bin_accuracy: 0.9306 - precision: 0.9368 - recall: 0.9236 - val_loss: 0.3148 - val_bin_accuracy: 0.8757 - val_precision: 0.9826 - val_recall: 0.8783\n",
            "Epoch 6/10\n",
            "252/252 [==============================] - 73s 288ms/step - loss: 0.1845 - bin_accuracy: 0.9314 - precision: 0.9373 - recall: 0.9245 - val_loss: 0.3354 - val_bin_accuracy: 0.8649 - val_precision: 0.9837 - val_recall: 0.8652\n",
            "Restoring model weights from the end of the best epoch.\n",
            "Epoch 00006: early stopping\n"
          ]
        }
      ]
    },
    {
      "cell_type": "markdown",
      "metadata": {
        "id": "w-4sCorSxnhq"
      },
      "source": [
        "### Save model"
      ]
    },
    {
      "cell_type": "code",
      "metadata": {
        "colab": {
          "base_uri": "https://localhost:8080/"
        },
        "id": "wHMuh_z_f_FW",
        "outputId": "e8099039-d5d4-4751-c5c4-a05537af29c0"
      },
      "source": [
        "path = '/content/drive/My Drive/custom-yolo/lemon_binary_classification'\n",
        "model.save(\n",
        "    os.path.join(path, 'vgg16_binary_finetuned_top2_blocks')\n",
        ")"
      ],
      "execution_count": null,
      "outputs": [
        {
          "output_type": "stream",
          "name": "stdout",
          "text": [
            "INFO:tensorflow:Assets written to: /content/drive/My Drive/custom-yolo/lemon_binary_classification/vgg16_binary_finetuned_top2_blocks/assets\n"
          ]
        }
      ]
    },
    {
      "cell_type": "markdown",
      "metadata": {
        "id": "ozsc1FsPxspe"
      },
      "source": [
        "### Plot training progress"
      ]
    },
    {
      "cell_type": "code",
      "metadata": {
        "id": "PyXyVEvxjUmm",
        "colab": {
          "base_uri": "https://localhost:8080/",
          "height": 610
        },
        "outputId": "f404d475-4fe7-41c9-df69-39ffaf656f57"
      },
      "source": [
        "plot_metrics(finetune_history)"
      ],
      "execution_count": null,
      "outputs": [
        {
          "output_type": "display_data",
          "data": {
            "image/png": "[encoded data removed]",
            "text/plain": [
              "<Figure size 864x720 with 4 Axes>"
            ]
          },
          "metadata": {
            "needs_background": "light"
          }
        }
      ]
    }
  ]
}